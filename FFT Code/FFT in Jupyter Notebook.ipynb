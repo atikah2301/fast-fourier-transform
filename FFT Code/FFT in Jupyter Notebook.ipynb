{
 "cells": [
  {
   "cell_type": "markdown",
   "id": "5991d4ba",
   "metadata": {},
   "source": [
    "# Fast Fourier Transform - Python Implementation"
   ]
  },
  {
   "cell_type": "markdown",
   "id": "e93a3c0a",
   "metadata": {},
   "source": [
    "### Algorithm Pseudocode:\n",
    "\n",
    "### Naive Polynomial Multiplication:\n",
    "1. Take the coefficient representations of two polynomials (start with two of equal degree)\n",
    "2. Use two `for` loops to multiply the the coefficients of each polynomial pairwise, giving $n^2$ products\n",
    "3. Collect like terms\n",
    "4. Return the output in coefficient representation"
   ]
  },
  {
   "cell_type": "markdown",
   "id": "f7581295",
   "metadata": {},
   "source": [
    "Example:\n",
    "\n",
    "$A(x)=2+3x+7x^2 \\implies$ `A=[2,3,7]`\n",
    "\n",
    "$B(x)=1+2x^2 \\implies$ `B=[1,0,2]`\n",
    "\n",
    "$C(x)=A(x)\\cdot B(x)=z+3+11x^2+6x^3+14x^4 \\implies$ `C=[2,3,11,6,14]`\n",
    "\n",
    "$d_A = 2, d_B = 2, d_C=d_B + d_B=4$ where d is the degree of some polynomial\n",
    "\n",
    "$n_A=3, n_B=3, n_C=d_C+1=5$ where n is the number of terms in some polynomial\n",
    "\n",
    "We want to add exponents and multiply coefficients. In terms of array indexing, `A[i]*B[j]=C[i+j]` since `i+j` gives us the new exponent, and therefore the index for the coefficent, and `A[i]+B[j]` gives us the coefficient itself at that index."
   ]
  },
  {
   "cell_type": "code",
   "execution_count": 12,
   "id": "98a7dac5",
   "metadata": {},
   "outputs": [
    {
     "data": {
      "text/plain": [
       "[2, 3, 11, 6, 14]"
      ]
     },
     "execution_count": 12,
     "metadata": {},
     "output_type": "execute_result"
    }
   ],
   "source": [
    "def naive_multiplication(A: list[int], B: list[int]):\n",
    "    n_A = len(A)\n",
    "    n_B = len(B)\n",
    "    \n",
    "     d_A = n_A -1\n",
    "    d_B = n_B -1\n",
    "    \n",
    "    # Get the degree and number of terms for the new polynomial, C(x)\n",
    "    d_C = d_A + d_B\n",
    "    n_C = d_C + 1\n",
    "    \n",
    "    # Initialise an array to store the coefficeints of C(x)\n",
    "    C = [0 for i in range(n_C)]\n",
    "\n",
    "    for i in range(n_A):\n",
    "        for j in range(n_B):\n",
    "            C[i+j] = C[i+j] + A[i]*B[j]\n",
    "\n",
    "    return C\n",
    "\n",
    "A = [2,3,7]\n",
    "B = [1,0,2]\n",
    "naive_multiplication(A, B)"
   ]
  },
  {
   "cell_type": "code",
   "execution_count": 17,
   "id": "8be0d58b",
   "metadata": {},
   "outputs": [
    {
     "name": "stdout",
     "output_type": "stream",
     "text": [
      "33.06097459793091\n"
     ]
    }
   ],
   "source": [
    "from time import time\n",
    "from random import randint\n",
    "\n",
    "A = [randint(0,100000) for _ in range(10000)]\n",
    "B = [randint(0,100000) for _ in range(10000)]\n",
    "\n",
    "t = time()\n",
    "naive_multiplication(A, B)\n",
    "t = time() - t\n",
    "\n",
    "print(t)"
   ]
  },
  {
   "cell_type": "code",
   "execution_count": 71,
   "id": "e548c730",
   "metadata": {},
   "outputs": [
    {
     "name": "stdout",
     "output_type": "stream",
     "text": [
      "naive multiplication:\n",
      "    n     time (s)\n",
      "-----  -----------\n",
      "   10   0\n",
      "  100   0.00199175\n",
      " 1000   0.180518\n",
      "10000  16.9786\n"
     ]
    }
   ],
   "source": [
    "from time import time\n",
    "from random import randint\n",
    "from tabulate import tabulate\n",
    "\n",
    "\n",
    "def test_timing(f):\n",
    "    n = [10,100,1000,10000]\n",
    "    times = []\n",
    "    \n",
    "    for i in range(len(n)):\n",
    "        A = [randint(0,999) for _ in range(n[i])]\n",
    "        B = [randint(0,999) for _ in range(n[i])]\n",
    "    \n",
    "        t = time()\n",
    "        f(A, B)\n",
    "        t = time() - t\n",
    "        times.append(t)\n",
    "        \n",
    "    table = {\"n\": n, \"time (s)\": times}\n",
    "    print(f\"{f.__name__.replace('_',' ')}:\")\n",
    "    print(tabulate(table, headers=\"keys\"))\n",
    "    \n",
    "test_timing(naive_multiplication)\n",
    "\n",
    "# from n=100 to n=1000, x10 more data resulted in x16 runtime\n",
    "# from n=1000 to n=10,000, x10 more data resulted in x100 runtime"
   ]
  },
  {
   "cell_type": "code",
   "execution_count": 78,
   "id": "f33f92c6",
   "metadata": {},
   "outputs": [
    {
     "name": "stdout",
     "output_type": "stream",
     "text": [
      "4.810477380965351j\n",
      "23.140692632779267j\n",
      "23.140692632779267j\n",
      "[(10+0j), (-2-9.620954761930703j), (-2+0j), (-2+9.620954761930703j)]\n"
     ]
    }
   ],
   "source": [
    "from math import log\n",
    "from math import exp\n",
    "from math import pi\n",
    "\n",
    "def partition_by_parity(P: list[int]):\n",
    "    even = []\n",
    "    odd = []\n",
    "    for i in range(len(P)):\n",
    "        if i % 2 == 0:\n",
    "            even.append(P[i])\n",
    "        else:\n",
    "            odd.append(P[i])\n",
    "    return even, odd\n",
    "        \n",
    "\n",
    "def FFT(P: list[int]):\n",
    "    \"\"\"Convert a list of n numbers, P,\n",
    "    that represents the coefficients of a polynomial,\n",
    "    to a point-value representation, using the FFT.\n",
    "    Return a list of n complex numbers.\"\"\"\n",
    "    \n",
    "    n = len(P)\n",
    "    \n",
    "    # Base Case of Recursion\n",
    "    if n == 1:\n",
    "        return P\n",
    "    \n",
    "#     if log(n, 2).is_integer() == False:\n",
    "#         return # padding..\n",
    "    \n",
    "    # First root of unity\n",
    "    w = complex(0, exp(2*pi/n))\n",
    "    \n",
    "    # Recusion on the paritionted polynomial\n",
    "    even, odd = partition_by_parity(P)\n",
    "    y_e, y_o = FFT(even), FFT(odd)\n",
    "    \n",
    "    # Setup for calculating values by iteration\n",
    "    y = [0]*n\n",
    "    half = int(n/2) \n",
    "    \n",
    "    for j in range(half):\n",
    "        y[j] = y_e[j] + (w**j)*y_o[j]\n",
    "        y[j + half] = y_e[j] - (w**j)*y_o[j]\n",
    "        \n",
    "    return y\n",
    "        \n",
    "print(FFT([1,2,3,4]))"
   ]
  }
 ],
 "metadata": {
  "kernelspec": {
   "display_name": "Python 3 (ipykernel)",
   "language": "python",
   "name": "python3"
  },
  "language_info": {
   "codemirror_mode": {
    "name": "ipython",
    "version": 3
   },
   "file_extension": ".py",
   "mimetype": "text/x-python",
   "name": "python",
   "nbconvert_exporter": "python",
   "pygments_lexer": "ipython3",
   "version": "3.9.6"
  }
 },
 "nbformat": 4,
 "nbformat_minor": 5
}
