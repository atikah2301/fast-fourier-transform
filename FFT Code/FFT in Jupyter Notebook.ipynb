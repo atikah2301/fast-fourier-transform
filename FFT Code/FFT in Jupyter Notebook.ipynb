{
 "cells": [
  {
   "cell_type": "markdown",
   "id": "5991d4ba",
   "metadata": {},
   "source": [
    "# Fast Fourier Transform"
   ]
  },
  {
   "cell_type": "markdown",
   "id": "e93a3c0a",
   "metadata": {},
   "source": [
    "## Naive Polynomial Multiplication:\n",
    "1. Take the coefficient representations of two polynomials (start with two of equal degree)\n",
    "2. Use two `for` loops to multiply the the coefficients of each polynomial pairwise, giving $n^2$ products\n",
    "3. Collect like terms\n",
    "4. Return the output in coefficient representation"
   ]
  },
  {
   "cell_type": "markdown",
   "id": "f7581295",
   "metadata": {},
   "source": [
    "Example:\n",
    "\n",
    "$A(x)=2+3x+7x^2 \\implies$ `A=[2,3,7]`\n",
    "\n",
    "$B(x)=1+2x^2 \\implies$ `B=[1,0,2]`\n",
    "\n",
    "$C(x)=A(x)\\cdot B(x)=z+3+11x^2+6x^3+14x^4 \\implies$ `C=[2,3,11,6,14]`\n",
    "\n",
    "$d_A = 2, d_B = 2, d_C=d_B + d_B=4$ where d is the degree of some polynomial\n",
    "\n",
    "$n_A=3, n_B=3, n_C=d_C+1=5$ where n is the number of terms in some polynomial\n",
    "\n",
    "We want to add exponents and multiply coefficients. In terms of array indexing, `A[i]*B[j]=C[i+j]` since `i+j` gives us the new exponent, and therefore the index for the coefficent, and `A[i]+B[j]` gives us the coefficient itself at that index."
   ]
  },
  {
   "cell_type": "code",
   "execution_count": 2,
   "id": "98a7dac5",
   "metadata": {},
   "outputs": [
    {
     "data": {
      "text/plain": [
       "[2, 3, 11, 6, 14]"
      ]
     },
     "execution_count": 2,
     "metadata": {},
     "output_type": "execute_result"
    }
   ],
   "source": [
    "def naive_multiplication(A: list[int], B: list[int]):\n",
    "    n_A = len(A)\n",
    "    n_B = len(B)\n",
    "    \n",
    "    d_A = n_A -1\n",
    "    d_B = n_B -1\n",
    "    \n",
    "    # Get the degree and number of terms for the new polynomial, C(x)\n",
    "    d_C = d_A + d_B\n",
    "    n_C = d_C + 1\n",
    "    \n",
    "    # Initialise an array to store the coefficeints of C(x)\n",
    "    C = [0 for i in range(n_C)]\n",
    "\n",
    "    for i in range(n_A):\n",
    "        for j in range(n_B):\n",
    "            C[i+j] = C[i+j] + A[i]*B[j]\n",
    "\n",
    "    return C\n",
    "\n",
    "A = [2,3,7]\n",
    "B = [1,0,2]\n",
    "# expected output: [2, 3, 11, 6, 14]\n",
    "naive_multiplication(A, B)"
   ]
  },
  {
   "cell_type": "markdown",
   "id": "2b9aaec5",
   "metadata": {},
   "source": [
    "## Step 2 -- Multiply Two Polynomials in Value Representation"
   ]
  },
  {
   "cell_type": "code",
   "execution_count": 1,
   "id": "d9fdc076",
   "metadata": {},
   "outputs": [
    {
     "name": "stdout",
     "output_type": "stream",
     "text": [
      "[(1+0j), (-1+0j), (1-0j), (-1-0j)]\n"
     ]
    }
   ],
   "source": [
    "import cmath\n",
    "\n",
    "def multiply_values(A, B):\n",
    "    \"\"\"The function two arrays of length n containing complex numbers, and carries out an element-wise multiplication.\n",
    "    The function returns the product as an array of length n.\"\"\"\n",
    "    C = [0 for _ in range(len(A))]\n",
    "    for i in range(len(C)):\n",
    "        C[i] = A[i]*B[i]\n",
    "    return C\n",
    "\n",
    "# Test\n",
    "A = [(1+0j), 1j, (-1+0j), (-0-1j)]\n",
    "B = [(1+0j), 1j, (-1+0j), (-0-1j)]\n",
    "C = multiply_values(A, B)\n",
    "print(C)"
   ]
  },
  {
   "cell_type": "markdown",
   "id": "ddcb00e8",
   "metadata": {},
   "source": [
    "## Converting and Plotting Complex Numbers"
   ]
  },
  {
   "cell_type": "code",
   "execution_count": 108,
   "id": "6e0bf901",
   "metadata": {},
   "outputs": [
    {
     "data": {
      "image/png": "[encoded data removed]",
      "text/plain": [
       "<Figure size 432x288 with 1 Axes>"
      ]
     },
     "metadata": {
      "needs_background": "light"
     },
     "output_type": "display_data"
    }
   ],
   "source": [
    "import numpy as np\n",
    "import matplotlib.pyplot as plt \n",
    "import cmath\n",
    "from math import cos, sin, pi, exp\n",
    "\n",
    "def polar_form(theta, r=1):\n",
    "    return round(r*(cos(theta)), 5), round(r*(sin(theta)), 5)\n",
    "\n",
    "def real_component(theta, r=1):\n",
    "    return round(r*(cos(theta)), 5)\n",
    "\n",
    "def imaginary_component(theta, r=1):\n",
    "    return round(r*(sin(theta)), 5)\n",
    "\n",
    "ax = plt.gca()\n",
    "ax.set_aspect(1)\n",
    "ax.spines['bottom'].set_position(('data', 0))\n",
    "ax.spines['left'].set_position(('data', 0))\n",
    "ax.spines['right'].set_color('none')\n",
    "ax.spines['top'].set_color('none')\n",
    "ax.xaxis.labelpad = 100\n",
    "ax.yaxis.labelpad = 90\n",
    "ax.set_xticks([-1,-0.5,0,0.5,1])\n",
    "ax.set_yticks([-1,-0.5,0,0.5,1])\n",
    "\n",
    "N = 8\n",
    "x = [real_component(2*pi*k/N) for k in range(N+1)]\n",
    "y = [imaginary_component(2*pi*k/N) for k in range(N+1)]\n",
    "\n",
    "plt.plot(x, y, label=f'{N}th Roots of Unity',\n",
    "        color='red', marker='o', markersize='10',\n",
    "        markerfacecolor='white', markeredgecolor='orange')\n",
    "    \n",
    "plt.xlim(-1.2,1.2)\n",
    "plt.ylim(-1.2,1.2)\n",
    "plt.text(-1.45, 1.35, \"Argand Diagram\", size=15)\n",
    "plt.grid(linestyle='--')\n",
    "plt.xlabel('Real')\n",
    "plt.ylabel('Imaginary')\n",
    "plt.legend(loc=(0.55,1.06))\n",
    "plt.show()"
   ]
  },
  {
   "cell_type": "markdown",
   "id": "172b22af",
   "metadata": {},
   "source": [
    "## Nth Roots of Unity"
   ]
  },
  {
   "cell_type": "code",
   "execution_count": 31,
   "id": "439dff3b",
   "metadata": {},
   "outputs": [
    {
     "name": "stdout",
     "output_type": "stream",
     "text": [
      "[(1+0j), 1j, (-1+0j), (-0-1j)]\n"
     ]
    }
   ],
   "source": [
    "from math import cos, sin, pi\n",
    "import cmath\n",
    "\n",
    "### Get the nth roots of unity\n",
    "n = 4\n",
    "X = []\n",
    "for k in range(n):\n",
    "    x = round(cos(k*2*pi/n), 10)\n",
    "    y = round(sin(k*2*pi/n), 10)\n",
    "    z = complex(x, y)\n",
    "    X.append(z)\n",
    "    \n",
    "print(X)"
   ]
  },
  {
   "cell_type": "markdown",
   "id": "6d369073",
   "metadata": {},
   "source": [
    "## DFT"
   ]
  },
  {
   "cell_type": "code",
   "execution_count": 139,
   "id": "914a9864",
   "metadata": {},
   "outputs": [
    {
     "name": "stdout",
     "output_type": "stream",
     "text": [
      "[12.0, 0.0]\n",
      "[-3.0, 3.4641199999999994]\n",
      "[-3.0, -3.4641199999999994]\n"
     ]
    }
   ],
   "source": [
    "import cmath\n",
    "\n",
    "def real_component(theta, r=1):\n",
    "    return round(r*(cos(theta)), 5)\n",
    "\n",
    "def imaginary_component(theta, r=1):\n",
    "    return round(r*(sin(theta)), 5)\n",
    "\n",
    "def polar_form(theta, r=1):\n",
    "    return real_component(theta, r=r), imaginary_component(theta, r=r)\n",
    "\n",
    "A = [2,3,7]\n",
    "B = [1,0,2]\n",
    "    \n",
    "def DFT(X):\n",
    "    \"\"\"\n",
    "    For a set of real numbers, return its DFT as an array containing N arrays of length 2, \n",
    "    where the first element is the real component of a complex number, and the second is the imaginary component.\n",
    "    This algorithm has O(N^2) time complexity.\n",
    "    \"\"\"\n",
    "    N = len(X)\n",
    "    Y = [[0,0] for _ in range(N)]\n",
    "\n",
    "    for k in range(N): # k=0,1,2\n",
    "        for n in range(N): # n=0,1,2\n",
    "            theta = -2*pi*n*k/N\n",
    "            x, y = polar_form(theta)\n",
    "            x, y = x*X[n], y*X[n]\n",
    "            #print(f\"{x} + {y}i\")\n",
    "            Y[k] = [Y[k][0]+x, Y[k][1]+y]\n",
    "\n",
    "        print(Y[k])\n",
    "\n",
    "# Polynomials A and B evaluated at the 1st, 2nd, and 3rd roots of unity \n",
    "DFT(A)\n",
    "# DFT(B)\n",
    "\n"
   ]
  },
  {
   "cell_type": "markdown",
   "id": "91f552bd",
   "metadata": {},
   "source": [
    "## Step 1 -- FFT on Two Polynomials"
   ]
  },
  {
   "cell_type": "code",
   "execution_count": 25,
   "id": "f33f92c6",
   "metadata": {},
   "outputs": [
    {
     "name": "stdout",
     "output_type": "stream",
     "text": [
      "[(10+0j), (-2-9.620954761930703j), (-2+0j), (-2+9.620954761930703j)]\n"
     ]
    }
   ],
   "source": [
    "from math import log\n",
    "\n",
    "def partition_by_parity(P: list[int]):\n",
    "    even = []\n",
    "    odd = []\n",
    "    for i in range(len(P)):\n",
    "        if i % 2 == 0:\n",
    "            even.append(P[i])\n",
    "        else:\n",
    "            odd.append(P[i])\n",
    "    return even, odd\n",
    "        \n",
    "\n",
    "def FFT(P: list[int]):\n",
    "    \"\"\"Convert a list of n numbers, P,\n",
    "    that represents the coefficients of a polynomial,\n",
    "    to a point-value representation, using the FFT.\n",
    "    Return a list of n complex numbers,\n",
    "    which are f(x) evaluated at the nth roots of unity\"\"\"\n",
    "    \n",
    "    n = len(P)\n",
    "    \n",
    "    # Base Case of Recursion\n",
    "    if n == 1:\n",
    "        return P\n",
    "    \n",
    "#     if log(n, 2).is_integer() == False:\n",
    "#         return # padding..\n",
    "    \n",
    "    # First root of unity\n",
    "    w = complex(0, exp(2*pi/n))\n",
    "    \n",
    "    # Recusion on the paritionted polynomial\n",
    "    even, odd = partition_by_parity(P)\n",
    "    y_e, y_o = FFT(even), FFT(odd)\n",
    "    \n",
    "    # Setup for calculating values by iteration\n",
    "    y = [0]*n\n",
    "    half = n//2 \n",
    "    \n",
    "    for j in range(half):\n",
    "        y[j] = y_e[j] + (w**j)*y_o[j]\n",
    "        y[j + half] = y_e[j] - (w**j)*y_o[j]\n",
    "        \n",
    "    return y\n",
    "        \n",
    "FFT_test = FFT([1,2,3,4]) \n",
    "print(FFT_test)"
   ]
  },
  {
   "cell_type": "markdown",
   "id": "58a89e42",
   "metadata": {},
   "source": [
    "## Step 3 -- Inverse FFT on Product"
   ]
  },
  {
   "cell_type": "code",
   "execution_count": 34,
   "id": "2ebb63ad",
   "metadata": {},
   "outputs": [
    {
     "data": {
      "text/plain": [
       "array([[ 7.81047738+0.j],\n",
       "       [ 3.        +0.j],\n",
       "       [-1.81047738+0.j],\n",
       "       [ 1.        +0.j]])"
      ]
     },
     "execution_count": 34,
     "metadata": {},
     "output_type": "execute_result"
    }
   ],
   "source": [
    "### Polynomial Interpolation\n",
    "# Take a list of n f(x_k)=y_k values, where x_k = nth roots of unity\n",
    "\n",
    "import numpy as np\n",
    "import cmath\n",
    "\n",
    "X = [(1+0j), 1j, (-1+0j), (-0-1j)]\n",
    "Y = [[val] for val in FFT_test]\n",
    "A = [[x_val**i for i in range(len(X)-1,-1,-1)] for x_val in X]\n",
    "\n",
    "#X = [1,2,3]\n",
    "#A = [[1,1,1],[4,2,1],[9,3,1]]\n",
    "#Y = [[-6],[-4],[0]]\n",
    "\n",
    "A = np.array(A)\n",
    "Y = np.array(Y)\n",
    "A_inv = np.linalg.inv(A)\n",
    "\n",
    "# print(Y)\n",
    "# print(A_inv)\n",
    "A_inv @ Y\n",
    "# as expected, we get the column vector 1, -1, -6 for the polynomial x^2 - x - 6"
   ]
  },
  {
   "cell_type": "markdown",
   "id": "ed7a47ed",
   "metadata": {},
   "source": [
    "## Final - Steps 1, 2, 3 "
   ]
  },
  {
   "cell_type": "code",
   "execution_count": 3,
   "id": "99ebdb77",
   "metadata": {},
   "outputs": [
    {
     "ename": "NameError",
     "evalue": "name 'FFT' is not defined",
     "output_type": "error",
     "traceback": [
      "\u001b[1;31m---------------------------------------------------------------------------\u001b[0m",
      "\u001b[1;31mNameError\u001b[0m                                 Traceback (most recent call last)",
      "\u001b[1;32m~\\AppData\\Local\\Temp/ipykernel_16904/2826968931.py\u001b[0m in \u001b[0;36m<module>\u001b[1;34m\u001b[0m\n\u001b[0;32m     14\u001b[0m \u001b[0mB\u001b[0m \u001b[1;33m=\u001b[0m \u001b[1;33m[\u001b[0m\u001b[1;36m1\u001b[0m\u001b[1;33m,\u001b[0m\u001b[1;36m0\u001b[0m\u001b[1;33m,\u001b[0m\u001b[1;36m2\u001b[0m\u001b[1;33m]\u001b[0m\u001b[1;33m\u001b[0m\u001b[1;33m\u001b[0m\u001b[0m\n\u001b[0;32m     15\u001b[0m \u001b[1;31m# expected output: [2, 3, 11, 6, 14]\u001b[0m\u001b[1;33m\u001b[0m\u001b[1;33m\u001b[0m\u001b[1;33m\u001b[0m\u001b[0m\n\u001b[1;32m---> 16\u001b[1;33m \u001b[0mC\u001b[0m \u001b[1;33m=\u001b[0m \u001b[0mFFT_multiplication\u001b[0m\u001b[1;33m(\u001b[0m\u001b[0mA\u001b[0m\u001b[1;33m,\u001b[0m \u001b[0mB\u001b[0m\u001b[1;33m)\u001b[0m\u001b[1;33m\u001b[0m\u001b[1;33m\u001b[0m\u001b[0m\n\u001b[0m\u001b[0;32m     17\u001b[0m \u001b[0mprint\u001b[0m\u001b[1;33m(\u001b[0m\u001b[0mC\u001b[0m\u001b[1;33m)\u001b[0m\u001b[1;33m\u001b[0m\u001b[1;33m\u001b[0m\u001b[0m\n",
      "\u001b[1;32m~\\AppData\\Local\\Temp/ipykernel_16904/2826968931.py\u001b[0m in \u001b[0;36mFFT_multiplication\u001b[1;34m(A_coeff, B_coeff)\u001b[0m\n\u001b[0;32m      1\u001b[0m \u001b[1;32mdef\u001b[0m \u001b[0mFFT_multiplication\u001b[0m\u001b[1;33m(\u001b[0m\u001b[0mA_coeff\u001b[0m\u001b[1;33m,\u001b[0m \u001b[0mB_coeff\u001b[0m\u001b[1;33m)\u001b[0m\u001b[1;33m:\u001b[0m\u001b[1;33m\u001b[0m\u001b[1;33m\u001b[0m\u001b[0m\n\u001b[0;32m      2\u001b[0m     \u001b[1;31m# Step 1 - Evaluting\u001b[0m\u001b[1;33m\u001b[0m\u001b[1;33m\u001b[0m\u001b[1;33m\u001b[0m\u001b[0m\n\u001b[1;32m----> 3\u001b[1;33m     \u001b[0mA_val\u001b[0m \u001b[1;33m=\u001b[0m \u001b[0mFFT\u001b[0m\u001b[1;33m(\u001b[0m\u001b[0mA_coeff\u001b[0m\u001b[1;33m)\u001b[0m\u001b[1;33m\u001b[0m\u001b[1;33m\u001b[0m\u001b[0m\n\u001b[0m\u001b[0;32m      4\u001b[0m     \u001b[0mB_val\u001b[0m \u001b[1;33m=\u001b[0m \u001b[0mFFT\u001b[0m\u001b[1;33m(\u001b[0m\u001b[0mB_coeff\u001b[0m\u001b[1;33m)\u001b[0m\u001b[1;33m\u001b[0m\u001b[1;33m\u001b[0m\u001b[0m\n\u001b[0;32m      5\u001b[0m     \u001b[1;31m# Step 2 - Multiplying\u001b[0m\u001b[1;33m\u001b[0m\u001b[1;33m\u001b[0m\u001b[1;33m\u001b[0m\u001b[0m\n",
      "\u001b[1;31mNameError\u001b[0m: name 'FFT' is not defined"
     ]
    }
   ],
   "source": [
    "def FFT_multiplication(A_coeff, B_coeff):\n",
    "    # Step 1 - Evaluting\n",
    "    A_val = FFT(A_coeff)\n",
    "    B_val = FFT(B_coeff)\n",
    "    # Step 2 - Multiplying\n",
    "    C_val = multiply_values(A_val, B_val)\n",
    "    # Step 3 - Interpolation\n",
    "    C_coeff = inv_FFT(C_vals)\n",
    "    \n",
    "    return C_coeff\n",
    "        \n",
    "    \n",
    "A = [2,3,7]\n",
    "B = [1,0,2]\n",
    "# expected output: [2, 3, 11, 6, 14]\n",
    "C = FFT_multiplication(A, B)\n",
    "print(C)"
   ]
  },
  {
   "cell_type": "markdown",
   "id": "351a5908",
   "metadata": {},
   "source": [
    "## Timing"
   ]
  },
  {
   "cell_type": "code",
   "execution_count": 17,
   "id": "8be0d58b",
   "metadata": {},
   "outputs": [
    {
     "name": "stdout",
     "output_type": "stream",
     "text": [
      "33.06097459793091\n"
     ]
    }
   ],
   "source": [
    "from time import time\n",
    "from random import randint\n",
    "\n",
    "A = [randint(0,100000) for _ in range(10000)]\n",
    "B = [randint(0,100000) for _ in range(10000)]\n",
    "\n",
    "t = time()\n",
    "naive_multiplication(A, B)\n",
    "t = time() - t\n",
    "\n",
    "print(t)"
   ]
  },
  {
   "cell_type": "code",
   "execution_count": 71,
   "id": "e548c730",
   "metadata": {},
   "outputs": [
    {
     "name": "stdout",
     "output_type": "stream",
     "text": [
      "naive multiplication:\n",
      "    n     time (s)\n",
      "-----  -----------\n",
      "   10   0\n",
      "  100   0.00199175\n",
      " 1000   0.180518\n",
      "10000  16.9786\n"
     ]
    }
   ],
   "source": [
    "from time import time\n",
    "from random import randint\n",
    "from tabulate import tabulate\n",
    "\n",
    "\n",
    "def test_timing(f):\n",
    "    n = [10,100,1000,10000]\n",
    "    times = []\n",
    "    \n",
    "    for i in range(len(n)):\n",
    "        A = [randint(0,999) for _ in range(n[i])]\n",
    "        B = [randint(0,999) for _ in range(n[i])]\n",
    "    \n",
    "        t = time()\n",
    "        f(A, B)\n",
    "        t = time() - t\n",
    "        times.append(t)\n",
    "        \n",
    "    table = {\"n\": n, \"time (s)\": times}\n",
    "    print(f\"{f.__name__.replace('_',' ')}:\")\n",
    "    print(tabulate(table, headers=\"keys\"))\n",
    "    \n",
    "test_timing(naive_multiplication)\n",
    "\n",
    "# from n=100 to n=1000, x10 more data resulted in x16 runtime\n",
    "# from n=1000 to n=10,000, x10 more data resulted in x100 runtime"
   ]
  },
  {
   "cell_type": "markdown",
   "id": "d231a3af",
   "metadata": {},
   "source": [
    "## Alternative Implementation"
   ]
  },
  {
   "cell_type": "code",
   "execution_count": 4,
   "id": "0645a0b2",
   "metadata": {},
   "outputs": [
    {
     "data": {
      "image/png": "[encoded data removed]",
      "text/plain": [
       "<Figure size 432x288 with 2 Axes>"
      ]
     },
     "metadata": {
      "needs_background": "light"
     },
     "output_type": "display_data"
    }
   ],
   "source": [
    "import numpy as np\n",
    "import matplotlib.pyplot as plt\n",
    "import random\n",
    "\n",
    "SAMPLE_RATE = 8192\n",
    "N = 128 # Windowing\n",
    "\n",
    "\n",
    "def fft(x):\n",
    "    X = list()\n",
    "    for k in range(0, N):\n",
    "        window = 1 # np.sin(np.pi * (k+0.5)/N)**2\n",
    "        X.append(complex(x[k] * window, 0))\n",
    "\n",
    "    fft_rec(X)\n",
    "    return X\n",
    "\n",
    "def fft_rec(X):\n",
    "    N = len(X)\n",
    "\n",
    "    if N <= 1:\n",
    "        return\n",
    "\n",
    "    even = np.array(X[0:N:2])\n",
    "    odd = np.array(X[1:N:2])\n",
    "\n",
    "    fft_rec(even)\n",
    "    fft_rec(odd)\n",
    "\n",
    "    for k in range(0, N//2):\n",
    "        t = np.exp(complex(0, -2 * np.pi * k / N)) * odd[k]\n",
    "        X[k] = even[k] + t\n",
    "        X[N//2 + k] = even[k] - t\n",
    "\n",
    "\n",
    "\n",
    "\n",
    "x_values = np.arange(0, N, 1)\n",
    "\n",
    "x = np.sin((2*np.pi*x_values / 32.0)) # 32 - 256Hz\n",
    "x += np.sin((2*np.pi*x_values / 64.0)) # 64 - 128Hz\n",
    "\n",
    "X = fft(x)\n",
    "\n",
    "\n",
    "# Plotting \n",
    "_, plots = plt.subplots(2)\n",
    "\n",
    "## Plot in time domain\n",
    "plots[0].plot(x)\n",
    "\n",
    "## Plot in frequent domain\n",
    "powers_all = np.abs(np.divide(X, N//2))\n",
    "powers = powers_all[0:N//2]\n",
    "frequencies = np.divide(np.multiply(SAMPLE_RATE, np.arange(0, N//2)), N)\n",
    "plots[1].plot(frequencies, powers)\n",
    "\n",
    "\n",
    "## Show plots\n",
    "plt.show()"
   ]
  },
  {
   "cell_type": "code",
   "execution_count": null,
   "id": "b51bcaa6",
   "metadata": {},
   "outputs": [],
   "source": []
  }
 ],
 "metadata": {
  "kernelspec": {
   "display_name": "Python 3 (ipykernel)",
   "language": "python",
   "name": "python3"
  },
  "language_info": {
   "codemirror_mode": {
    "name": "ipython",
    "version": 3
   },
   "file_extension": ".py",
   "mimetype": "text/x-python",
   "name": "python",
   "nbconvert_exporter": "python",
   "pygments_lexer": "ipython3",
   "version": "3.9.6"
  }
 },
 "nbformat": 4,
 "nbformat_minor": 5
}
